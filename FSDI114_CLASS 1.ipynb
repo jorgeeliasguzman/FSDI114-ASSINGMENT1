{
 "cells": [
  {
   "cell_type": "code",
   "execution_count": 1,
   "id": "ec0ae269",
   "metadata": {},
   "outputs": [
    {
     "name": "stdout",
     "output_type": "stream",
     "text": [
      "Hello world\n"
     ]
    }
   ],
   "source": [
    "print(\"Hello world\")"
   ]
  },
  {
   "cell_type": "code",
   "execution_count": 2,
   "id": "5d00df8e",
   "metadata": {},
   "outputs": [
    {
     "name": "stdout",
     "output_type": "stream",
     "text": [
      "h\n",
      "e\n",
      "l\n",
      "l\n",
      "o\n",
      ",\n",
      " \n",
      "w\n",
      "o\n",
      "r\n",
      "l\n",
      "d\n",
      "!\n"
     ]
    }
   ],
   "source": [
    "for letter in \"hello, world!\":\n",
    "    print (letter)"
   ]
  },
  {
   "cell_type": "markdown",
   "id": "17a529ee",
   "metadata": {},
   "source": [
    "# Problem 1\n",
    "\n",
    "### Given two strings (string_a & string_b) let's check whether or not they are anagrams of each other given the following criteria:\n",
    "\n",
    "    Two strings are only anagrams of each other if all conditions below are met:\n",
    "    .They must be exactly he same length.\n",
    "    . They must use exactly the same characters (no more, no less) Example: cars and scar"
   ]
  },
  {
   "cell_type": "code",
   "execution_count": 3,
   "id": "e965c1ac",
   "metadata": {},
   "outputs": [],
   "source": [
    "\n",
    "def is_anagram(string_a, string_b):\n",
    "    if len (string_a) != len(string_b):\n",
    "           return False\n",
    "    char_times_a = dict()\n",
    "    char_times_b = dict()\n",
    "    for i in range (len(string_a)):\n",
    "        if string_a[i] not in char_times_a.keys():\n",
    "            char_times_a[string_a[i]] = 0\n",
    "        else:\n",
    "            char_times_a[string_a[i]] += 0\n",
    "\n",
    "\n",
    "\n"
   ]
  },
  {
   "cell_type": "code",
   "execution_count": 5,
   "id": "7eeb3c1c",
   "metadata": {},
   "outputs": [],
   "source": [
    "class Stack:\n",
    "    def __init__(self):\n",
    "        self.items = []\n",
    "        \n",
    "    def is_empty(self):\n",
    "        return self.items == []\n",
    "    \n",
    "    def push(self, item):\n",
    "        self.items.append(item)\n",
    "        \n",
    "    def pop(self):\n",
    "        return self.items.pop()\n",
    "    \n",
    "    def peek(self):\n",
    "        return self.items[len(self.items)-1]\n",
    "    \n",
    "    def size(self):\n",
    "        return len(self.items)\n",
    "    "
   ]
  },
  {
   "cell_type": "code",
   "execution_count": 7,
   "id": "54d4be9a",
   "metadata": {},
   "outputs": [],
   "source": [
    "def reverse_str(s):\n",
    "    #populate this function so that it reverses a string.\n",
    "    # it should return the string in reverse order.\n",
    "    # example: rafael -> leafar\n",
    "    out = \"\" # empty string\n",
    "    stack = Stack() #estantiate variable = Class\n",
    "    for letter in s:\n",
    "        stack.push(letter)\n",
    "    while not stack.is_empty():\n",
    "        out += stack.pop()\n",
    "    return out"
   ]
  },
  {
   "cell_type": "code",
   "execution_count": 9,
   "id": "e9fa9a75",
   "metadata": {},
   "outputs": [
    {
     "data": {
      "text/plain": [
       "'ahcoM'"
      ]
     },
     "execution_count": 9,
     "metadata": {},
     "output_type": "execute_result"
    }
   ],
   "source": [
    "reverse_str(\"Mocha\")"
   ]
  },
  {
   "cell_type": "code",
   "execution_count": null,
   "id": "c9fd7383",
   "metadata": {},
   "outputs": [],
   "source": []
  }
 ],
 "metadata": {
  "kernelspec": {
   "display_name": "Python 3 (ipykernel)",
   "language": "python",
   "name": "python3"
  },
  "language_info": {
   "codemirror_mode": {
    "name": "ipython",
    "version": 3
   },
   "file_extension": ".py",
   "mimetype": "text/x-python",
   "name": "python",
   "nbconvert_exporter": "python",
   "pygments_lexer": "ipython3",
   "version": "3.9.6"
  }
 },
 "nbformat": 4,
 "nbformat_minor": 5
}
